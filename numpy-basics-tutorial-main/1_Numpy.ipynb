{
  "nbformat": 4,
  "nbformat_minor": 0,
  "metadata": {
    "colab": {
      "provenance": [],
      "authorship_tag": "ABX9TyPXPzDkyKLv5nGAn3QLhEo9",
      "include_colab_link": true
    },
    "kernelspec": {
      "name": "python3",
      "display_name": "Python 3"
    },
    "language_info": {
      "name": "python"
    }
  },
  "cells": [
    {
      "cell_type": "markdown",
      "metadata": {
        "id": "view-in-github",
        "colab_type": "text"
      },
      "source": [
        "<a href=\"https://colab.research.google.com/github/anushkagupta0203/Python-Libraries/blob/main/1_Numpy.ipynb\" target=\"_parent\"><img src=\"https://colab.research.google.com/assets/colab-badge.svg\" alt=\"Open In Colab\"/></a>"
      ]
    },
    {
      "cell_type": "code",
      "execution_count": 20,
      "metadata": {
        "id": "NDGI4R6WzDAU"
      },
      "outputs": [],
      "source": [
        "import numpy as np"
      ]
    },
    {
      "cell_type": "code",
      "source": [
        "np"
      ],
      "metadata": {
        "colab": {
          "base_uri": "https://localhost:8080/"
        },
        "id": "wU3G_Hzoa2lW",
        "outputId": "3fc0a0ea-d179-4390-bdbb-82d925aa785c"
      },
      "execution_count": 29,
      "outputs": [
        {
          "output_type": "execute_result",
          "data": {
            "text/plain": [
              "<module 'numpy' from '/usr/local/lib/python3.11/dist-packages/numpy/__init__.py'>"
            ]
          },
          "metadata": {},
          "execution_count": 29
        }
      ]
    },
    {
      "cell_type": "code",
      "source": [
        "a=[1,2,5]\n",
        "m=np.array(a)\n",
        "print(a)\n",
        "print(type(a))\n",
        "print(m)\n",
        "print(type(m))\n",
        "#Ndim Fun\n",
        "print(m.ndim)\n",
        "#n-dimension and direct printing\n",
        "print(np.array(a,ndmin=2))\n",
        "print(np.array(a,ndmin=3))"
      ],
      "metadata": {
        "colab": {
          "base_uri": "https://localhost:8080/"
        },
        "id": "ICWrRMLW1i6u",
        "outputId": "73414a94-f43d-4e7e-b7a3-4784d515b413"
      },
      "execution_count": 60,
      "outputs": [
        {
          "output_type": "stream",
          "name": "stdout",
          "text": [
            "[1, 2, 5]\n",
            "<class 'list'>\n",
            "[1 2 5]\n",
            "<class 'numpy.ndarray'>\n",
            "[[1 2 5]]\n",
            "1\n",
            "[[[1 2 5]]]\n"
          ]
        }
      ]
    },
    {
      "cell_type": "code",
      "source": [
        "#Arange function-(start,stop,step,dtype)\n",
        "#last not included\n",
        "#Dtype function\n",
        "arr=np.arange(1,7,2)\n",
        "print(arr)\n",
        "print(arr.dtype)\n",
        "arr=np.arange(1,7,2,dtype=float)\n",
        "print(arr)\n",
        "print(arr.dtype)"
      ],
      "metadata": {
        "colab": {
          "base_uri": "https://localhost:8080/"
        },
        "id": "WR0OoSF6b65q",
        "outputId": "c84caa8b-2408-435c-be40-2e74fd5bab20"
      },
      "execution_count": 58,
      "outputs": [
        {
          "output_type": "stream",
          "name": "stdout",
          "text": [
            "[1 3 5]\n",
            "int64\n",
            "[1. 3. 5.]\n",
            "float64\n"
          ]
        }
      ]
    },
    {
      "cell_type": "code",
      "source": [
        "#Multidimensional Array\n",
        "arr1=np.array([[1,2,3],[4,5,6],[7,8,9],[1,4,6]])\n",
        "print(arr1)\n",
        "#Ndim fun\n",
        "print(arr1.ndim)\n",
        "#Size fun\n",
        "print(arr1.size)\n",
        "print('Rows',np.size(arr1,0))\n",
        "print('Column',np.size(arr1,1))\n",
        "#Shape fun\n",
        "print(arr1.shape)\n",
        "# shape ~ size\n",
        "print((np.size(arr1,0),np.size(arr1,1)))"
      ],
      "metadata": {
        "colab": {
          "base_uri": "https://localhost:8080/"
        },
        "id": "XORVZmomc5M3",
        "outputId": "099a7dc7-8180-4956-fcc5-becfde07fd1c"
      },
      "execution_count": 61,
      "outputs": [
        {
          "output_type": "stream",
          "name": "stdout",
          "text": [
            "[[1 2 3]\n",
            " [4 5 6]\n",
            " [7 8 9]\n",
            " [1 4 6]]\n",
            "2\n",
            "12\n",
            "Rows 4\n",
            "Column 3\n",
            "(4, 3)\n",
            "(4, 3)\n"
          ]
        }
      ]
    },
    {
      "cell_type": "code",
      "source": [
        "#Random Functions\n",
        "#The numpy.random.rand() function creates an array of specified shape and fills it with random values.\n",
        "np.random.rand(3,4)"
      ],
      "metadata": {
        "colab": {
          "base_uri": "https://localhost:8080/"
        },
        "id": "tueDqqQofmmg",
        "outputId": "9c01cdf3-826f-4068-9262-f88e29005a76"
      },
      "execution_count": 62,
      "outputs": [
        {
          "output_type": "execute_result",
          "data": {
            "text/plain": [
              "array([[0.54668522, 0.19994994, 0.59183476, 0.9179166 ],\n",
              "       [0.7792564 , 0.37506585, 0.43080139, 0.30715727],\n",
              "       [0.07209957, 0.5026413 , 0.04837857, 0.91837482]])"
            ]
          },
          "metadata": {},
          "execution_count": 62
        }
      ]
    },
    {
      "cell_type": "code",
      "source": [
        "#np.random.randint-used for random sampling in numpy- (low,high,size)\n",
        "#random integers in range [low,high)\n",
        "np.random.randint(1,10,5)"
      ],
      "metadata": {
        "colab": {
          "base_uri": "https://localhost:8080/"
        },
        "id": "U2kRVwYcf-kq",
        "outputId": "79ea2f39-e595-465d-d9ba-6b7623dadacc"
      },
      "execution_count": 64,
      "outputs": [
        {
          "output_type": "execute_result",
          "data": {
            "text/plain": [
              "array([2, 2, 9, 1, 3])"
            ]
          },
          "metadata": {},
          "execution_count": 64
        }
      ]
    },
    {
      "cell_type": "code",
      "source": [
        "#these fun can also be written as\n",
        "np.random.randint(low=1,high=10,size=5)"
      ],
      "metadata": {
        "colab": {
          "base_uri": "https://localhost:8080/"
        },
        "id": "Cr_0oJaRgo9m",
        "outputId": "fad7b527-79f0-4da5-dc3b-ba1fb5daf87d"
      },
      "execution_count": 66,
      "outputs": [
        {
          "output_type": "execute_result",
          "data": {
            "text/plain": [
              "array([8, 2, 8, 5, 7])"
            ]
          },
          "metadata": {},
          "execution_count": 66
        }
      ]
    },
    {
      "cell_type": "code",
      "source": [
        "#np.random.randn() fun fills with random values as per standard normal distribution\n"
      ],
      "metadata": {
        "id": "spdprcKddNbS"
      },
      "execution_count": null,
      "outputs": []
    },
    {
      "cell_type": "code",
      "source": [],
      "metadata": {
        "id": "8cXm4V59iP0v"
      },
      "execution_count": null,
      "outputs": []
    },
    {
      "cell_type": "code",
      "source": [
        "arr2=np.random.randint(1,10,(3,2))\n",
        "print(arr2)\n",
        "print(arr2.shape)\n",
        "print( )\n",
        "#Reshape fun\n",
        "print(arr2.reshape(2,3))\n",
        "print( )\n",
        "print(arr2.reshape(6,1))"
      ],
      "metadata": {
        "colab": {
          "base_uri": "https://localhost:8080/"
        },
        "outputId": "c4cc2513-870c-4ed3-cd0b-d092617ae644",
        "id": "zjmU9HbDiRtC"
      },
      "execution_count": 84,
      "outputs": [
        {
          "output_type": "stream",
          "name": "stdout",
          "text": [
            "[[4 7]\n",
            " [9 6]\n",
            " [8 9]]\n",
            "(3, 2)\n",
            "\n",
            "[[4 7 9]\n",
            " [6 8 9]]\n",
            "\n",
            "[[4]\n",
            " [7]\n",
            " [9]\n",
            " [6]\n",
            " [8]\n",
            " [9]]\n"
          ]
        }
      ]
    },
    {
      "cell_type": "code",
      "source": [
        "#Linspace fun- (start,stop,NUMBER OF EQUIDISTANT VALUES REQUIRED,dtype(optional))\n",
        "#remember e is not in the spelling\n",
        "# diff in arange we have step instead\n",
        "np.linspace(1,10,5)\n"
      ],
      "metadata": {
        "colab": {
          "base_uri": "https://localhost:8080/"
        },
        "id": "jwehjp4dlS-g",
        "outputId": "1cf309ca-35f8-4495-9e5d-f4a2da91309a"
      },
      "execution_count": 89,
      "outputs": [
        {
          "output_type": "execute_result",
          "data": {
            "text/plain": [
              "array([ 1.  ,  3.25,  5.5 ,  7.75, 10.  ])"
            ]
          },
          "metadata": {},
          "execution_count": 89
        }
      ]
    },
    {
      "cell_type": "code",
      "source": [
        "np.linspace(1,10,5,dtype=int)"
      ],
      "metadata": {
        "colab": {
          "base_uri": "https://localhost:8080/"
        },
        "id": "W9teU6q7oXvJ",
        "outputId": "703c3fa6-2dac-4cd9-f176-41b8426a5f7a"
      },
      "execution_count": 88,
      "outputs": [
        {
          "output_type": "execute_result",
          "data": {
            "text/plain": [
              "array([ 1,  3,  5,  7, 10])"
            ]
          },
          "metadata": {},
          "execution_count": 88
        }
      ]
    },
    {
      "cell_type": "code",
      "source": [
        "#flatten fun - multidimensional array-->single dimension\n",
        "arr2.flatten()"
      ],
      "metadata": {
        "colab": {
          "base_uri": "https://localhost:8080/"
        },
        "id": "K2RenayeodjG",
        "outputId": "072b01ca-a323-47be-f8ce-aba96a2aa17f"
      },
      "execution_count": 90,
      "outputs": [
        {
          "output_type": "execute_result",
          "data": {
            "text/plain": [
              "array([4, 7, 9, 6, 8, 9])"
            ]
          },
          "metadata": {},
          "execution_count": 90
        }
      ]
    },
    {
      "cell_type": "code",
      "source": [
        "#max,min,sum\n",
        "print(arr2.max())\n",
        "print(arr2.min())\n",
        "print(arr2.sum())"
      ],
      "metadata": {
        "colab": {
          "base_uri": "https://localhost:8080/"
        },
        "id": "acV_3dMTo715",
        "outputId": "bb8f43c3-64e8-4124-dc6d-d0966edccb6e"
      },
      "execution_count": 91,
      "outputs": [
        {
          "output_type": "stream",
          "name": "stdout",
          "text": [
            "9\n",
            "4\n",
            "43\n"
          ]
        }
      ]
    },
    {
      "cell_type": "code",
      "source": [
        "#sort fun\n",
        "print(arr2)\n",
        "print()\n",
        "print()\n",
        "#colum-wise\n",
        "print(np.sort(arr2, axis=0))\n",
        "print()\n",
        "print()\n",
        "#row-wise\n",
        "print(np.sort(arr2, axis=1))"
      ],
      "metadata": {
        "colab": {
          "base_uri": "https://localhost:8080/"
        },
        "id": "nsYogIW8pGqG",
        "outputId": "b0da0d70-72f4-41d3-9c13-030a1e11c6fe"
      },
      "execution_count": 100,
      "outputs": [
        {
          "output_type": "stream",
          "name": "stdout",
          "text": [
            "[[4 7]\n",
            " [9 6]\n",
            " [8 9]]\n",
            "\n",
            "\n",
            "[[4 6]\n",
            " [8 7]\n",
            " [9 9]]\n",
            "\n",
            "\n",
            "[[4 7]\n",
            " [6 9]\n",
            " [8 9]]\n"
          ]
        }
      ]
    },
    {
      "cell_type": "code",
      "source": [
        "#mathematical operations\n",
        "print(arr2)\n",
        "print()\n",
        "print(arr2-1)\n",
        "print()\n",
        "print(arr2*2)\n",
        "print()\n",
        "#matrix multiplication- dot fun or @\n",
        "print(arr1.dot(arr2))\n",
        "print()\n",
        "print(arr1@arr2)\n",
        "print()\n",
        "print(arr1**2)"
      ],
      "metadata": {
        "colab": {
          "base_uri": "https://localhost:8080/"
        },
        "id": "QuPoBHY0qHBK",
        "outputId": "54ea2a97-3d85-4b93-cf08-0280d634cffe"
      },
      "execution_count": 107,
      "outputs": [
        {
          "output_type": "stream",
          "name": "stdout",
          "text": [
            "[[4 7]\n",
            " [9 6]\n",
            " [8 9]]\n",
            "\n",
            "[[3 6]\n",
            " [8 5]\n",
            " [7 8]]\n",
            "\n",
            "[[ 8 14]\n",
            " [18 12]\n",
            " [16 18]]\n",
            "\n",
            "[[ 46  46]\n",
            " [109 112]\n",
            " [172 178]\n",
            " [ 88  85]]\n",
            "\n",
            "[[ 46  46]\n",
            " [109 112]\n",
            " [172 178]\n",
            " [ 88  85]]\n",
            "\n",
            "[[ 1  4  9]\n",
            " [16 25 36]\n",
            " [49 64 81]\n",
            " [ 1 16 36]]\n"
          ]
        }
      ]
    },
    {
      "cell_type": "code",
      "source": [
        "#mean,var,std\n",
        "arr1=np.array([1,2,3,4,5])\n",
        "print(arr1.mean())\n",
        "print(arr1.var())\n",
        "print(arr1.std())"
      ],
      "metadata": {
        "colab": {
          "base_uri": "https://localhost:8080/"
        },
        "id": "D5zukgGwI6Xk",
        "outputId": "58fe363b-2345-4d05-cf91-697e552c81dd"
      },
      "execution_count": 111,
      "outputs": [
        {
          "output_type": "stream",
          "name": "stdout",
          "text": [
            "3.0\n",
            "2.0\n",
            "1.4142135623730951\n"
          ]
        }
      ]
    },
    {
      "cell_type": "code",
      "source": [
        "#filtering an numpy array\n",
        "print(arr1<4)"
      ],
      "metadata": {
        "colab": {
          "base_uri": "https://localhost:8080/"
        },
        "id": "TaSJktQ5JdKE",
        "outputId": "6eb1d3b0-be2a-466d-8628-f4fb8a4f5c54"
      },
      "execution_count": 112,
      "outputs": [
        {
          "output_type": "stream",
          "name": "stdout",
          "text": [
            "[ True  True  True False False]\n"
          ]
        }
      ]
    },
    {
      "cell_type": "code",
      "source": [
        "print(arr1[arr1<4])"
      ],
      "metadata": {
        "colab": {
          "base_uri": "https://localhost:8080/"
        },
        "id": "SLtxa3u7Jurq",
        "outputId": "59706a46-4d5f-4f68-c95a-54136bc5f16b"
      },
      "execution_count": 115,
      "outputs": [
        {
          "output_type": "stream",
          "name": "stdout",
          "text": [
            "[1 2 3]\n"
          ]
        }
      ]
    },
    {
      "cell_type": "code",
      "source": [
        "#vsatck hstack concatenation\n",
        "g=np.array([1,2,3])\n",
        "h=np.array([4,5,6])\n",
        "print(np.vstack((g,h)))\n",
        "print()\n",
        "print(np.hstack((g,h)))\n",
        "print()\n",
        "#splitting of array\n",
        "i=np.vstack((g,h))\n",
        "print(np.hsplit(i,3))\n",
        "print(np.vsplit(i,2))"
      ],
      "metadata": {
        "colab": {
          "base_uri": "https://localhost:8080/"
        },
        "id": "TQU2z7v2KCzr",
        "outputId": "1e90cc2a-d96f-4707-c46b-df6a251585b1"
      },
      "execution_count": 124,
      "outputs": [
        {
          "output_type": "stream",
          "name": "stdout",
          "text": [
            "[[1 2 3]\n",
            " [4 5 6]]\n",
            "\n",
            "[1 2 3 4 5 6]\n",
            "\n",
            "[array([[1],\n",
            "       [4]]), array([[2],\n",
            "       [5]]), array([[3],\n",
            "       [6]])]\n",
            "[array([[1, 2, 3]]), array([[4, 5, 6]])]\n"
          ]
        }
      ]
    },
    {
      "cell_type": "code",
      "source": [
        "l=[]\n",
        "for i in range(0,11):\n",
        "  m=[]\n",
        "  for i in range(0,11):\n",
        "    m.append(0)\n",
        "  l.append(m)\n",
        "print(l)"
      ],
      "metadata": {
        "colab": {
          "base_uri": "https://localhost:8080/"
        },
        "id": "RVX8Lozr17vm",
        "outputId": "c59b3502-2361-4530-b5f6-a07d6f259c72"
      },
      "execution_count": 3,
      "outputs": [
        {
          "output_type": "stream",
          "name": "stdout",
          "text": [
            "[[0, 0, 0, 0, 0, 0, 0, 0, 0, 0, 0], [0, 0, 0, 0, 0, 0, 0, 0, 0, 0, 0], [0, 0, 0, 0, 0, 0, 0, 0, 0, 0, 0], [0, 0, 0, 0, 0, 0, 0, 0, 0, 0, 0], [0, 0, 0, 0, 0, 0, 0, 0, 0, 0, 0], [0, 0, 0, 0, 0, 0, 0, 0, 0, 0, 0], [0, 0, 0, 0, 0, 0, 0, 0, 0, 0, 0], [0, 0, 0, 0, 0, 0, 0, 0, 0, 0, 0], [0, 0, 0, 0, 0, 0, 0, 0, 0, 0, 0], [0, 0, 0, 0, 0, 0, 0, 0, 0, 0, 0], [0, 0, 0, 0, 0, 0, 0, 0, 0, 0, 0]]\n"
          ]
        }
      ]
    },
    {
      "cell_type": "code",
      "source": [],
      "metadata": {
        "id": "jHntQ89pa-MQ"
      },
      "execution_count": 31,
      "outputs": []
    },
    {
      "cell_type": "code",
      "source": [
        "l=np.zeros((10,10),dtype=int)\n",
        "print(l)"
      ],
      "metadata": {
        "colab": {
          "base_uri": "https://localhost:8080/"
        },
        "id": "-G_h_hOg5HZR",
        "outputId": "5035f1a6-d229-40a8-e6fc-ea95e840ce40"
      },
      "execution_count": 24,
      "outputs": [
        {
          "output_type": "stream",
          "name": "stdout",
          "text": [
            "[[0 0 0 0 0 0 0 0 0 0]\n",
            " [0 0 0 0 0 0 0 0 0 0]\n",
            " [0 0 0 0 0 0 0 0 0 0]\n",
            " [0 0 0 0 0 0 0 0 0 0]\n",
            " [0 0 0 0 0 0 0 0 0 0]\n",
            " [0 0 0 0 0 0 0 0 0 0]\n",
            " [0 0 0 0 0 0 0 0 0 0]\n",
            " [0 0 0 0 0 0 0 0 0 0]\n",
            " [0 0 0 0 0 0 0 0 0 0]\n",
            " [0 0 0 0 0 0 0 0 0 0]]\n"
          ]
        }
      ]
    },
    {
      "cell_type": "code",
      "source": [
        "l1=np.ones((10,10),dtype=int)\n",
        "print(l1)"
      ],
      "metadata": {
        "colab": {
          "base_uri": "https://localhost:8080/"
        },
        "id": "Ebf1rTQFZe7K",
        "outputId": "2fd91691-b62c-418a-c044-8fb79e73f815"
      },
      "execution_count": 25,
      "outputs": [
        {
          "output_type": "stream",
          "name": "stdout",
          "text": [
            "[[1 1 1 1 1 1 1 1 1 1]\n",
            " [1 1 1 1 1 1 1 1 1 1]\n",
            " [1 1 1 1 1 1 1 1 1 1]\n",
            " [1 1 1 1 1 1 1 1 1 1]\n",
            " [1 1 1 1 1 1 1 1 1 1]\n",
            " [1 1 1 1 1 1 1 1 1 1]\n",
            " [1 1 1 1 1 1 1 1 1 1]\n",
            " [1 1 1 1 1 1 1 1 1 1]\n",
            " [1 1 1 1 1 1 1 1 1 1]\n",
            " [1 1 1 1 1 1 1 1 1 1]]\n"
          ]
        }
      ]
    },
    {
      "cell_type": "code",
      "source": [
        "l2=np.eye(10,dtype=int)\n",
        "print(l2)"
      ],
      "metadata": {
        "colab": {
          "base_uri": "https://localhost:8080/"
        },
        "id": "kEk_2icIaVpb",
        "outputId": "b545f1e0-d6b9-46d2-cdd0-71b91b47f2b4"
      },
      "execution_count": 27,
      "outputs": [
        {
          "output_type": "stream",
          "name": "stdout",
          "text": [
            "[[1 0 0 0 0 0 0 0 0 0]\n",
            " [0 1 0 0 0 0 0 0 0 0]\n",
            " [0 0 1 0 0 0 0 0 0 0]\n",
            " [0 0 0 1 0 0 0 0 0 0]\n",
            " [0 0 0 0 1 0 0 0 0 0]\n",
            " [0 0 0 0 0 1 0 0 0 0]\n",
            " [0 0 0 0 0 0 1 0 0 0]\n",
            " [0 0 0 0 0 0 0 1 0 0]\n",
            " [0 0 0 0 0 0 0 0 1 0]\n",
            " [0 0 0 0 0 0 0 0 0 1]]\n"
          ]
        }
      ]
    },
    {
      "cell_type": "code",
      "source": [
        "#Empty Fun\n",
        "#np.empty(shape=(3,3))"
      ],
      "metadata": {
        "id": "kblr3-jghC2Q"
      },
      "execution_count": 71,
      "outputs": []
    }
  ]
}